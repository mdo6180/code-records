{
 "cells": [
  {
   "attachments": {},
   "cell_type": "markdown",
   "metadata": {},
   "source": [
    "This is an example showing how to:\n",
    "- use the request library to download a compressed .gz file from the internet\n",
    "- use the gzip library to uncompress the zipped file\n"
   ]
  },
  {
   "cell_type": "code",
   "execution_count": 7,
   "metadata": {},
   "outputs": [],
   "source": [
    "import requests\n",
    "import gzip\n",
    "import shutil\n",
    "import os"
   ]
  },
  {
   "cell_type": "code",
   "execution_count": 8,
   "metadata": {},
   "outputs": [],
   "source": [
    "# download dataset from Yann Lecun's website\n",
    "url = \"http://yann.lecun.com/exdb/mnist/train-images-idx3-ubyte.gz\"\n",
    "r = requests.get(url, allow_redirects=True)\n",
    "with open(\"./train-images-idx3-ubyte.gz\", 'wb') as file:\n",
    "    file.write(r.content)"
   ]
  },
  {
   "cell_type": "code",
   "execution_count": 9,
   "metadata": {},
   "outputs": [
    {
     "name": "stdout",
     "output_type": "stream",
     "text": [
      "True\n"
     ]
    }
   ],
   "source": [
    "# function to check if the file is a compressed .gz file\n",
    "def is_gz_file(filepath):\n",
    "    with open(filepath, 'rb') as test_f:\n",
    "        return test_f.read(2) == b'\\x1f\\x8b'\n",
    "\n",
    "print(is_gz_file(\"./train-images-idx3-ubyte.gz\"))\n"
   ]
  },
  {
   "cell_type": "code",
   "execution_count": 5,
   "metadata": {},
   "outputs": [],
   "source": [
    "# uncompress dataset\n",
    "with gzip.open(\"./train-images-idx3-ubyte.gz\", 'rb') as f_in:\n",
    "    with open(\"./train-images-idx3-ubyte\", 'wb') as f_out:\n",
    "        shutil.copyfileobj(f_in, f_out)"
   ]
  },
  {
   "cell_type": "code",
   "execution_count": 11,
   "metadata": {},
   "outputs": [],
   "source": [
    "# cleanup: remove the files\n",
    "if os.path.exists(\"./train-images-idx3-ubyte.gz\"):\n",
    "    os.remove(\"./train-images-idx3-ubyte.gz\")\n",
    "\n",
    "if os.path.exists(\"./train-images-idx3-ubyte\"):\n",
    "    os.remove(\"./train-images-idx3-ubyte\")"
   ]
  }
 ],
 "metadata": {
  "kernelspec": {
   "display_name": "tools-ecP-PXnS",
   "language": "python",
   "name": "python3"
  },
  "language_info": {
   "codemirror_mode": {
    "name": "ipython",
    "version": 3
   },
   "file_extension": ".py",
   "mimetype": "text/x-python",
   "name": "python",
   "nbconvert_exporter": "python",
   "pygments_lexer": "ipython3",
   "version": "3.7.15"
  },
  "orig_nbformat": 4,
  "vscode": {
   "interpreter": {
    "hash": "44989a1cf1c72c4b6e2ffa44458d2a3b2d99db2f51602e9c14170e70ef330378"
   }
  }
 },
 "nbformat": 4,
 "nbformat_minor": 2
}
